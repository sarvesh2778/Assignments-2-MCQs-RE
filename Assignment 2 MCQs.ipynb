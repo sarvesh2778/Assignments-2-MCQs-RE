{
 "cells": [
  {
   "cell_type": "markdown",
   "id": "c8c9e4df",
   "metadata": {},
   "source": [
    "1)Write a Python program to check that a string contains only a certain set of characters (in this case a-z, A-Z and 0-9"
   ]
  },
  {
   "cell_type": "code",
   "execution_count": 1,
   "id": "947a5d9a",
   "metadata": {},
   "outputs": [],
   "source": [
    "import re\n",
    "def contains_only_allowed_characters(string):\n",
    "    pattern = r'^[a-zA-Z0-9]+$'\n",
    "    return re.match(pattern,string)is not None"
   ]
  },
  {
   "cell_type": "code",
   "execution_count": 3,
   "id": "adf3ccad",
   "metadata": {},
   "outputs": [
    {
     "name": "stdout",
     "output_type": "stream",
     "text": [
      "Namy is Sarvesh: Contains special characters or spaces\n",
      "AHH! Nice Game: Contains special characters or spaces\n"
     ]
    }
   ],
   "source": [
    "strings = [\n",
    "    'Namy is Sarvesh',\n",
    "    'AHH! Nice Game']\n",
    "\n",
    "for string in strings:\n",
    "    if contains_only_allowed_characters(string):\n",
    "        print(f'{string}: Contains only allowed characters')\n",
    "    else:\n",
    "        print(f'{string}: Contains special characters or spaces')"
   ]
  },
  {
   "cell_type": "code",
   "execution_count": null,
   "id": "9109e491",
   "metadata": {},
   "outputs": [],
   "source": []
  },
  {
   "cell_type": "code",
   "execution_count": 4,
   "id": "292c0ba4",
   "metadata": {},
   "outputs": [],
   "source": [
    "def contains_only_allowed_characters(string):\n",
    "    allowed_characters = set('abcdefghijklmnopqrstuvwxyzABCDEFGHIJKLMNOPQRSTUVWXYZ0123456789')\n",
    "    return set(string).issubset(allowed_characters)\n"
   ]
  },
  {
   "cell_type": "code",
   "execution_count": 7,
   "id": "c7a19b95",
   "metadata": {},
   "outputs": [
    {
     "name": "stdout",
     "output_type": "stream",
     "text": [
      "Name is Sarvesh: Contains special characters or spaces\n",
      "AAh ! nice game!: Contains special characters or spaces\n"
     ]
    }
   ],
   "source": [
    "strings = [\n",
    "    'Name is Sarvesh',\n",
    "    'AAh ! nice game!']\n",
    "for string in strings:\n",
    "    if contains_only_allowed_characters(string):\n",
    "        print(f'{string}: Contains only allowed characters')\n",
    "    else:\n",
    "        print(f'{string}: Contains special characters or spaces')"
   ]
  },
  {
   "cell_type": "code",
   "execution_count": null,
   "id": "07f9c50f",
   "metadata": {},
   "outputs": [],
   "source": []
  },
  {
   "cell_type": "code",
   "execution_count": 8,
   "id": "67f023dd",
   "metadata": {},
   "outputs": [],
   "source": [
    "def contains_only_allowed_characters(string):\n",
    "    allowed_characters = set('abcdefghijklmnopqrstuvwxyzABCDEFGHIJKLMNOPQRSTUVWXYZ0123456789')\n",
    "    return all(char in allowed_characters for char in string)"
   ]
  },
  {
   "cell_type": "code",
   "execution_count": 9,
   "id": "885a2230",
   "metadata": {},
   "outputs": [
    {
     "name": "stdout",
     "output_type": "stream",
     "text": [
      "Name is Sarvesh: Contains special characters or spaces\n",
      "AAh ! nice game!: Contains special characters or spaces\n"
     ]
    }
   ],
   "source": [
    "strings = [\n",
    "    'Name is Sarvesh',\n",
    "    'AAh ! nice game!']\n",
    "for string in strings:\n",
    "    if contains_only_allowed_characters(string):\n",
    "        print(f'{string}: Contains only allowed characters')\n",
    "    else:\n",
    "        print(f'{string}: Contains special characters or spaces')"
   ]
  },
  {
   "cell_type": "code",
   "execution_count": null,
   "id": "fc1d1c04",
   "metadata": {},
   "outputs": [],
   "source": []
  },
  {
   "cell_type": "code",
   "execution_count": 10,
   "id": "ef5a78c9",
   "metadata": {},
   "outputs": [],
   "source": [
    "import re"
   ]
  },
  {
   "cell_type": "code",
   "execution_count": 12,
   "id": "d11a0afb",
   "metadata": {},
   "outputs": [],
   "source": [
    "def match_pattern(string):\n",
    "    pattern = r'ab?'\n",
    "    match = re.search(pattern, string)\n",
    "    if match:\n",
    "        return True\n",
    "    else:\n",
    "        return False"
   ]
  },
  {
   "cell_type": "code",
   "execution_count": 16,
   "id": "3c713613",
   "metadata": {},
   "outputs": [
    {
     "name": "stdout",
     "output_type": "stream",
     "text": [
      "True\n",
      "True\n",
      "True\n",
      "True\n"
     ]
    }
   ],
   "source": [
    "print(match_pattern(\"Data Science\"))  # False\n",
    "print(match_pattern(\"ab\"))  # True\n",
    "print(match_pattern(\"ac\"))  # True\n",
    "print(match_pattern(\"abb\"))  # True"
   ]
  },
  {
   "cell_type": "markdown",
   "id": "05e1af72",
   "metadata": {},
   "source": [
    "5) Write a Python program that matches a string that has an a followed by three 'b'.\n",
    "\n"
   ]
  },
  {
   "cell_type": "code",
   "execution_count": 17,
   "id": "c149512f",
   "metadata": {},
   "outputs": [],
   "source": [
    "import re"
   ]
  },
  {
   "cell_type": "code",
   "execution_count": 18,
   "id": "9351694b",
   "metadata": {},
   "outputs": [],
   "source": [
    "def match_string(string):\n",
    "    pattern = r'a{1}b{3}'\n",
    "    match = re.search(pattern, string)\n",
    "    if match:\n",
    "        print(\"Match found!\")\n",
    "    else:\n",
    "        print(\"No match found.\")\n",
    "        "
   ]
  },
  {
   "cell_type": "code",
   "execution_count": 19,
   "id": "105891e6",
   "metadata": {},
   "outputs": [
    {
     "name": "stdout",
     "output_type": "stream",
     "text": [
      "Enter a string: \"Hellow World\"\n",
      "No match found.\n"
     ]
    }
   ],
   "source": [
    "test_string = input(\"Enter a string: \")\n",
    "match_string(test_string)"
   ]
  },
  {
   "cell_type": "markdown",
   "id": "78842a78",
   "metadata": {},
   "source": [
    "6)Write a regular expression in Python to split a string into uppercase letters.\n",
    "Sample text: “ImportanceOfRegularExpressionsInPython”\n",
    "Output: [‘Importance’, ‘Of’, ‘Regular’, ‘Expression’, ‘In’, ‘Python’]"
   ]
  },
  {
   "cell_type": "code",
   "execution_count": 20,
   "id": "ee8cbb8b",
   "metadata": {},
   "outputs": [],
   "source": [
    "import re"
   ]
  },
  {
   "cell_type": "code",
   "execution_count": 21,
   "id": "f01ac458",
   "metadata": {},
   "outputs": [
    {
     "name": "stdout",
     "output_type": "stream",
     "text": [
      "['Importance', 'Of', 'Regular', 'Expressions', 'In', 'Python']\n"
     ]
    }
   ],
   "source": [
    "text = \"ImportanceOfRegularExpressionsInPython\"\n",
    "result = re.findall('[A-Z][^A-Z]*', text)\n",
    "\n",
    "print(result)"
   ]
  },
  {
   "cell_type": "code",
   "execution_count": null,
   "id": "977d1661",
   "metadata": {},
   "outputs": [],
   "source": [
    "7)Write a Python program that matches a string that has an a followed by two to three 'b'."
   ]
  },
  {
   "cell_type": "code",
   "execution_count": 22,
   "id": "b4eb40f2",
   "metadata": {},
   "outputs": [],
   "source": [
    "import re"
   ]
  },
  {
   "cell_type": "code",
   "execution_count": 23,
   "id": "a089c159",
   "metadata": {},
   "outputs": [],
   "source": [
    "def match_string(text):\n",
    "    pattern = r'a(bb|bbb)'\n",
    "    match = re.search(pattern, text)\n",
    "    if match:\n",
    "        return True\n",
    "    else:\n",
    "        return False\n"
   ]
  },
  {
   "cell_type": "code",
   "execution_count": 24,
   "id": "39fc6c4d",
   "metadata": {},
   "outputs": [
    {
     "name": "stdout",
     "output_type": "stream",
     "text": [
      "'aaabbb' matches the pattern.\n",
      "'abbb' matches the pattern.\n",
      "'aabbb' matches the pattern.\n",
      "'ab' does not match the pattern.\n"
     ]
    }
   ],
   "source": [
    "test_strings = ['aaabbb', 'abbb', 'aabbb', 'ab']\n",
    "for string in test_strings:\n",
    "    if match_string(string):\n",
    "        print(f\"'{string}' matches the pattern.\")\n",
    "    else:\n",
    "        print(f\"'{string}' does not match the pattern.\")"
   ]
  },
  {
   "cell_type": "markdown",
   "id": "82145944",
   "metadata": {},
   "source": [
    "8)- Write a Python program to find sequences of lowercase letters joined with a underscore."
   ]
  },
  {
   "cell_type": "code",
   "execution_count": 25,
   "id": "28918455",
   "metadata": {},
   "outputs": [],
   "source": [
    "import re"
   ]
  },
  {
   "cell_type": "code",
   "execution_count": 26,
   "id": "f5288abe",
   "metadata": {},
   "outputs": [],
   "source": [
    "def find_sequences(string):\n",
    "    pattern = r'[a-z]+(?:_[a-z]+)+'\n",
    "    sequences = re.findall(pattern, string)\n",
    "    return sequences"
   ]
  },
  {
   "cell_type": "code",
   "execution_count": 29,
   "id": "222f7086",
   "metadata": {},
   "outputs": [
    {
     "name": "stdout",
     "output_type": "stream",
     "text": [
      "['my_name_is', 'i_am_handicapped', 'but_i_can_work']\n"
     ]
    }
   ],
   "source": [
    "input_string = \"my_name_is_John ,i_am_handicapped,but_i_can_work\"\n",
    "result = find_sequences(input_string)\n",
    "print(result)"
   ]
  },
  {
   "cell_type": "markdown",
   "id": "c1bc45ff",
   "metadata": {},
   "source": [
    "9)Write a Python program that matches a string that has an 'a' followed by anything, ending in 'b'."
   ]
  },
  {
   "cell_type": "code",
   "execution_count": 30,
   "id": "0a46f873",
   "metadata": {},
   "outputs": [],
   "source": [
    "import re"
   ]
  },
  {
   "cell_type": "code",
   "execution_count": null,
   "id": "dbcbc965",
   "metadata": {},
   "outputs": [],
   "source": [
    "def match_string(pattern, text):\n",
    "    matches = re.findall(pattern, text)\n",
    "    if matches:\n",
    "        print(\"Match found!\")\n",
    "        print(\"Matches:\", matches)\n",
    "    else:\n",
    "        print(\"No match found.\")"
   ]
  },
  {
   "cell_type": "code",
   "execution_count": 32,
   "id": "cc167c17",
   "metadata": {},
   "outputs": [
    {
     "data": {
      "text/plain": [
       "False"
      ]
     },
     "execution_count": 32,
     "metadata": {},
     "output_type": "execute_result"
    }
   ],
   "source": [
    "pattern = r'a.*b$'\n",
    "text = \"This is a test string ending in b\"\n",
    "match_string(pattern)"
   ]
  },
  {
   "cell_type": "markdown",
   "id": "2fccd97a",
   "metadata": {},
   "source": [
    "10)Write a Python program that matches a word at the beginning of a string."
   ]
  },
  {
   "cell_type": "code",
   "execution_count": 33,
   "id": "312d6fd6",
   "metadata": {},
   "outputs": [],
   "source": [
    "import re"
   ]
  },
  {
   "cell_type": "code",
   "execution_count": 34,
   "id": "10c55e3c",
   "metadata": {},
   "outputs": [],
   "source": [
    "def match_word_at_beginning(word, string):\n",
    "    pattern = r'^\\b' + re.escape(word)\n",
    "    match = re.search(pattern, string)\n",
    "    if match:\n",
    "        return True\n",
    "    else:\n",
    "        return False"
   ]
  },
  {
   "cell_type": "code",
   "execution_count": 35,
   "id": "3af80ddb",
   "metadata": {},
   "outputs": [
    {
     "name": "stdout",
     "output_type": "stream",
     "text": [
      "Word matched at the beginning of the string.\n"
     ]
    }
   ],
   "source": [
    "word = \"Space X\"\n",
    "string = \"Space X Musk\"\n",
    "if match_word_at_beginning(word, string):\n",
    "    print(\"Word matched at the beginning of the string.\")\n",
    "else:\n",
    "    print(\"Word not found at the beginning of the string.\")"
   ]
  },
  {
   "cell_type": "markdown",
   "id": "f57bb287",
   "metadata": {},
   "source": [
    "11)Write a Python program to match a string that contains only upper and lowercase letters, numbers, and underscores."
   ]
  },
  {
   "cell_type": "code",
   "execution_count": 36,
   "id": "b3e7d1f0",
   "metadata": {},
   "outputs": [],
   "source": [
    "import re"
   ]
  },
  {
   "cell_type": "code",
   "execution_count": 37,
   "id": "eebee683",
   "metadata": {},
   "outputs": [],
   "source": [
    "def match_string(string):\n",
    "    pattern = r'^[a-zA-Z0-9_]+$'\n",
    "    if re.match(pattern, string):\n",
    "        return True\n",
    "    else:\n",
    "        return False"
   ]
  },
  {
   "cell_type": "code",
   "execution_count": 38,
   "id": "dfb5c181",
   "metadata": {},
   "outputs": [
    {
     "name": "stdout",
     "output_type": "stream",
     "text": [
      "Sarvesh: Matched\n",
      "Gaikwad: Matched\n",
      "445534: Matched\n",
      "AbC_123!: Not matched\n",
      "Panda_1: Matched\n"
     ]
    }
   ],
   "source": [
    "strings = [\"Sarvesh\", \"Gaikwad\", \"445534\", \"AbC_123!\", \"Panda_1\"]\n",
    "for string in strings:\n",
    "    if match_string(string):\n",
    "        print(f\"{string}: Matched\")\n",
    "    else:\n",
    "        print(f\"{string}: Not matched\")"
   ]
  },
  {
   "cell_type": "markdown",
   "id": "7b0e2ab4",
   "metadata": {},
   "source": [
    "12)Write a Python program where a string will start with a specific number. "
   ]
  },
  {
   "cell_type": "code",
   "execution_count": 39,
   "id": "64047834",
   "metadata": {},
   "outputs": [],
   "source": [
    "import re"
   ]
  },
  {
   "cell_type": "code",
   "execution_count": 40,
   "id": "6f814e42",
   "metadata": {},
   "outputs": [],
   "source": [
    "def starts_with_number(string, number):\n",
    "    try:\n",
    "        \n",
    "        return string.startswith(str(number))\n",
    "    except ValueError:\n",
    "        return False"
   ]
  },
  {
   "cell_type": "code",
   "execution_count": 41,
   "id": "5b621d15",
   "metadata": {},
   "outputs": [
    {
     "name": "stdout",
     "output_type": "stream",
     "text": [
      "The string '1122sarvesh' starts with the number 1122.\n"
     ]
    }
   ],
   "source": [
    "string = \"1122sarvesh\"\n",
    "number = 1122\n",
    "\n",
    "if starts_with_number(string, number):\n",
    "    print(f\"The string '{string}' starts with the number {number}.\")\n",
    "else:\n",
    "    print(f\"The string '{string}' does not start with the number {number}.\")"
   ]
  },
  {
   "cell_type": "markdown",
   "id": "0eacc790",
   "metadata": {},
   "source": [
    "13)Write a Python program to remove leading zeros from an IP address"
   ]
  },
  {
   "cell_type": "code",
   "execution_count": 43,
   "id": "a26563b5",
   "metadata": {},
   "outputs": [],
   "source": [
    "import re"
   ]
  },
  {
   "cell_type": "code",
   "execution_count": 45,
   "id": "06c7afb4",
   "metadata": {},
   "outputs": [],
   "source": [
    "def remove_leading_zeros(ip_address):\n",
    "\n",
    "    octets = ip_address.split(\".\")\n",
    "\n",
    "    \n",
    "    cleaned_octets = [str(int(octet)) for octet in octets]\n",
    "\n",
    "    \n",
    "    cleaned_ip_address = \".\".join(cleaned_octets)\n",
    "\n",
    "    return cleaned_ip_address"
   ]
  },
  {
   "cell_type": "code",
   "execution_count": 46,
   "id": "e326ef4f",
   "metadata": {},
   "outputs": [
    {
     "ename": "SyntaxError",
     "evalue": "invalid syntax (3196484838.py, line 4)",
     "output_type": "error",
     "traceback": [
      "\u001b[1;36m  Cell \u001b[1;32mIn[46], line 4\u001b[1;36m\u001b[0m\n\u001b[1;33m    Output:\u001b[0m\n\u001b[1;37m           ^\u001b[0m\n\u001b[1;31mSyntaxError\u001b[0m\u001b[1;31m:\u001b[0m invalid syntax\n"
     ]
    }
   ],
   "source": [
    "ip_address = \"192.168.001.001\"\n",
    "cleaned_ip_address = remove_leading_zeros(ip_address)\n",
    "print(cleaned_ip_address):"
   ]
  },
  {
   "cell_type": "code",
   "execution_count": 47,
   "id": "9c73b34a",
   "metadata": {},
   "outputs": [
    {
     "name": "stdout",
     "output_type": "stream",
     "text": [
      "192.168.1.1\n"
     ]
    }
   ],
   "source": [
    "ip_address = \"192.168.001.001\"\n",
    "cleaned_ip_address = remove_leading_zeros(ip_address)\n",
    "print(cleaned_ip_address)"
   ]
  },
  {
   "cell_type": "markdown",
   "id": "927240f2",
   "metadata": {},
   "source": [
    "14)Write a regular expression in python to match a date string in the form of Month name followed by day number and year stored in a text file.\n",
    "Sample text : ' On August 15th 1947 that India was declared independent from British colonialism, and the reins of control were handed over to the leaders of the Country’.\n",
    "Output- August 15th 1947\n",
    "Hint- Use re.match() method here\n"
   ]
  },
  {
   "cell_type": "code",
   "execution_count": 57,
   "id": "47744ebf",
   "metadata": {},
   "outputs": [],
   "source": [
    "import re"
   ]
  },
  {
   "cell_type": "code",
   "execution_count": 60,
   "id": "4cb8c4fa",
   "metadata": {},
   "outputs": [],
   "source": [
    "text = \"On August 15th 1947 that India was declared independent from British colonialism, and the reins of control were handed over to the leaders of the Country'.\"\n",
    "\n",
    "pattern = r\"\\b([A-Z][a-z]+ \\d{1,2}(?:st|nd|rd|th)? \\d{4})\\b\"\n",
    "\n",
    "match = re.match(pattern, text)\n",
    "if match:\n",
    "    date_string = match.group(1)\n",
    "    "
   ]
  },
  {
   "cell_type": "code",
   "execution_count": 61,
   "id": "e1154dc0",
   "metadata": {},
   "outputs": [
    {
     "ename": "NameError",
     "evalue": "name 'date_string' is not defined",
     "output_type": "error",
     "traceback": [
      "\u001b[1;31m---------------------------------------------------------------------------\u001b[0m",
      "\u001b[1;31mNameError\u001b[0m                                 Traceback (most recent call last)",
      "Cell \u001b[1;32mIn[61], line 1\u001b[0m\n\u001b[1;32m----> 1\u001b[0m \u001b[38;5;28mprint\u001b[39m(\u001b[43mdate_string\u001b[49m)\n",
      "\u001b[1;31mNameError\u001b[0m: name 'date_string' is not defined"
     ]
    }
   ],
   "source": [
    "print(date_string)"
   ]
  },
  {
   "cell_type": "markdown",
   "id": "cbedb2a2",
   "metadata": {},
   "source": [
    "15)Write a Python program to search some literals strings in a string. Go to the editor\n",
    "Sample text : 'The quick brown fox jumps over the lazy dog.'\n",
    "Searched words : 'fox', 'dog', 'horse'"
   ]
  },
  {
   "cell_type": "code",
   "execution_count": 62,
   "id": "9f525297",
   "metadata": {},
   "outputs": [],
   "source": [
    "import re"
   ]
  },
  {
   "cell_type": "code",
   "execution_count": 63,
   "id": "5a865479",
   "metadata": {},
   "outputs": [
    {
     "name": "stdout",
     "output_type": "stream",
     "text": [
      "The following words were found:\n",
      "['fox', 'dog']\n"
     ]
    }
   ],
   "source": [
    "def search_literals(text, searched_words):\n",
    "    found_words = []\n",
    "    for word in searched_words:\n",
    "        if word in text:\n",
    "            found_words.append(word)\n",
    "    return found_words\n",
    "\n",
    "sample_text = 'The quick brown fox jumps over the lazy dog.'\n",
    "searched_words = ['fox', 'dog', 'horse']\n",
    "\n",
    "found_words = search_literals(sample_text, searched_words)\n",
    "\n",
    "if found_words:\n",
    "    print(\"The following words were found:\")\n",
    "    print(found_words)\n",
    "else:\n",
    "    print(\"No words were found.\")"
   ]
  },
  {
   "cell_type": "markdown",
   "id": "0a5d29f0",
   "metadata": {},
   "source": [
    "16)Write a Python program to search a literals string in a string and also find the location within the original string where the pattern occurs\n",
    "Sample text : 'The quick brown fox jumps over the lazy dog.'\n",
    "Searched words : 'fox'\n"
   ]
  },
  {
   "cell_type": "code",
   "execution_count": 64,
   "id": "d3c86166",
   "metadata": {},
   "outputs": [],
   "source": [
    "import re"
   ]
  },
  {
   "cell_type": "code",
   "execution_count": 65,
   "id": "cdbf0601",
   "metadata": {},
   "outputs": [
    {
     "name": "stdout",
     "output_type": "stream",
     "text": [
      "Pattern found at index: 16\n"
     ]
    }
   ],
   "source": [
    "def search_string(original_string, pattern):\n",
    "    index = original_string.find(pattern)\n",
    "    if index != -1:\n",
    "        print(\"Pattern found at index:\", index)\n",
    "    else:\n",
    "        print(\"Pattern not found in the string.\")\n",
    "\n",
    "\n",
    "text = 'The quick brown fox jumps over the lazy dog.'\n",
    "\n",
    "search_word = 'fox'\n",
    "\n",
    "\n",
    "search_string(text, search_word)"
   ]
  },
  {
   "cell_type": "markdown",
   "id": "d1a28527",
   "metadata": {},
   "source": [
    "17)Write a Python program to find the substrings within a string.\n",
    "Sample text : 'Python exercises, PHP exercises, C# exercises'\n",
    "Pattern : 'exercises'.\n"
   ]
  },
  {
   "cell_type": "markdown",
   "id": "14a35539",
   "metadata": {},
   "source": [
    "18)Write a Python program to find the occurrence and position of the substrings within a string."
   ]
  },
  {
   "cell_type": "code",
   "execution_count": 66,
   "id": "70aeaa73",
   "metadata": {},
   "outputs": [],
   "source": [
    "import pandas as pd\n",
    "import re"
   ]
  },
  {
   "cell_type": "code",
   "execution_count": 67,
   "id": "56042fcc",
   "metadata": {},
   "outputs": [],
   "source": [
    "def find_substring(string, substring):\n",
    "    occurrences = []\n",
    "    start = 0\n",
    "\n",
    "    while True:\n",
    "        pos = string.find(substring, start)\n",
    "        if pos == -1:\n",
    "            break\n",
    "        occurrences.append(pos)\n",
    "        start = pos + 1\n",
    "\n",
    "    return occurrences"
   ]
  },
  {
   "cell_type": "code",
   "execution_count": 68,
   "id": "629363de",
   "metadata": {},
   "outputs": [
    {
     "name": "stdout",
     "output_type": "stream",
     "text": [
      "Enter a string: \"Hello Python\"\n",
      "Enter a substring: \"Easy to learn if we Practice\"\n",
      "The substring was not found in the string.\n"
     ]
    }
   ],
   "source": [
    "def main():\n",
    "    string = input(\"Enter a string: \")\n",
    "    substring = input(\"Enter a substring: \")\n",
    "\n",
    "    occurrences = find_substring(string, substring)\n",
    "\n",
    "    if occurrences:\n",
    "        print(f\"The substring '{substring}' is found at position(s):\")\n",
    "        for pos in occurrences:\n",
    "            print(pos)\n",
    "    else:\n",
    "        print(\"The substring was not found in the string.\")\n",
    "\n",
    "\n",
    "if __name__ == '__main__':\n",
    "    main()"
   ]
  },
  {
   "cell_type": "markdown",
   "id": "d03a3302",
   "metadata": {},
   "source": [
    "19)Write a Python program to convert a date of yyyy-mm-dd format to dd-mm-yyyy format."
   ]
  },
  {
   "cell_type": "code",
   "execution_count": 69,
   "id": "cd25b429",
   "metadata": {},
   "outputs": [],
   "source": [
    "import pandas as pd\n",
    "import re"
   ]
  },
  {
   "cell_type": "code",
   "execution_count": 70,
   "id": "a9d18b5f",
   "metadata": {},
   "outputs": [],
   "source": [
    "def convert_date(date):\n",
    "    \n",
    "    year, month, day = date.split('-')\n",
    "\n",
    "    formatted_date = f\"{day}-{month}-{year}\"\n",
    "\n",
    "    return formatted_date"
   ]
  },
  {
   "cell_type": "code",
   "execution_count": 71,
   "id": "4a1b1e39",
   "metadata": {},
   "outputs": [
    {
     "name": "stdout",
     "output_type": "stream",
     "text": [
      "Enter a date (yyyy-mm-dd): 1994-11-17\n",
      "Converted date: 17-11-1994\n"
     ]
    }
   ],
   "source": [
    "date_input = input(\"Enter a date (yyyy-mm-dd): \")\n",
    "converted_date = convert_date(date_input)\n",
    "print(\"Converted date:\", converted_date)"
   ]
  },
  {
   "cell_type": "markdown",
   "id": "91add0bf",
   "metadata": {},
   "source": [
    "20)Write a Python program to find all words starting with 'a' or 'e' in a given string."
   ]
  },
  {
   "cell_type": "code",
   "execution_count": 72,
   "id": "be95cf32",
   "metadata": {},
   "outputs": [],
   "source": [
    "import re"
   ]
  },
  {
   "cell_type": "code",
   "execution_count": 73,
   "id": "3877828e",
   "metadata": {},
   "outputs": [],
   "source": [
    "def find_words_starting_with_a_or_e(text):\n",
    "    \n",
    "    words = re.findall(r'\\b[a-zA-Z]+\\b', text)\n",
    "    \n",
    "    result = [word for word in words if word[0].lower() in ['a', 'e']]\n",
    "    \n",
    "    return result"
   ]
  },
  {
   "cell_type": "code",
   "execution_count": 84,
   "id": "16066fd4",
   "metadata": {},
   "outputs": [
    {
     "ename": "NameError",
     "evalue": "name 'find_words_string__with_a_or_e' is not defined",
     "output_type": "error",
     "traceback": [
      "\u001b[1;31m---------------------------------------------------------------------------\u001b[0m",
      "\u001b[1;31mNameError\u001b[0m                                 Traceback (most recent call last)",
      "Cell \u001b[1;32mIn[84], line 2\u001b[0m\n\u001b[0;32m      1\u001b[0m input_text \u001b[38;5;241m=\u001b[39m \u001b[38;5;124m\"\u001b[39m\u001b[38;5;124mAnand stays in Nashik District\u001b[39m\u001b[38;5;124m\"\u001b[39m,\u001b[38;5;124m\"\u001b[39m\u001b[38;5;124mThe anaconda can eat rattle snakes\u001b[39m\u001b[38;5;124m\"\u001b[39m\n\u001b[1;32m----> 2\u001b[0m words \u001b[38;5;241m=\u001b[39m \u001b[43mfind_words_string__with_a_or_e\u001b[49m(input_text)\n\u001b[0;32m      4\u001b[0m \u001b[38;5;28mprint\u001b[39m(words)\n",
      "\u001b[1;31mNameError\u001b[0m: name 'find_words_string__with_a_or_e' is not defined"
     ]
    }
   ],
   "source": [
    "input_text = \"Anand stays in Nashik District\",\"The anaconda can eat rattle snakes\"\n",
    "words = find_words_string__with_a_or_e(input_text)\n",
    "\n",
    "print(words)"
   ]
  },
  {
   "cell_type": "markdown",
   "id": "c42d67a6",
   "metadata": {},
   "source": [
    "21)Write a Python program to separate and print the numbers and their position of a given string."
   ]
  },
  {
   "cell_type": "code",
   "execution_count": 85,
   "id": "4ba15923",
   "metadata": {},
   "outputs": [],
   "source": [
    "import re"
   ]
  },
  {
   "cell_type": "code",
   "execution_count": 86,
   "id": "23dd488d",
   "metadata": {},
   "outputs": [],
   "source": [
    "def extract_numbers_with_positions(string):\n",
    "    numbers = re.findall(r'\\d+', string)\n",
    "    positions = [m.start() for m in re.finditer(r'\\d+', string)]\n",
    "    return numbers, positions\n",
    "\n",
    "def print_numbers_with_positions(numbers, positions):\n",
    "    print(\"Numbers and their positions:\")\n",
    "    for number, position in zip(numbers, positions):\n",
    "        print(f\"Number: {number}, Position: {position}\")"
   ]
  },
  {
   "cell_type": "code",
   "execution_count": 87,
   "id": "885e7af5",
   "metadata": {},
   "outputs": [
    {
     "name": "stdout",
     "output_type": "stream",
     "text": [
      "Numbers and their positions:\n",
      "Number: 123, Position: 28\n",
      "Number: 456, Position: 41\n"
     ]
    }
   ],
   "source": [
    "input_string = \"Name is Sarvesh and calling 123 and says 456!\"\n",
    "numbers, positions = extract_numbers_with_positions(input_string)\n",
    "print_numbers_with_positions(numbers, positions)"
   ]
  },
  {
   "cell_type": "markdown",
   "id": "3ca61511",
   "metadata": {},
   "source": [
    "22)Write a regular expression in python program to extract maximum numeric value from a string"
   ]
  },
  {
   "cell_type": "code",
   "execution_count": 88,
   "id": "4463cecd",
   "metadata": {},
   "outputs": [],
   "source": [
    "import re"
   ]
  },
  {
   "cell_type": "code",
   "execution_count": 89,
   "id": "2c27cd70",
   "metadata": {},
   "outputs": [],
   "source": [
    "def extract_max_numeric_value(string):\n",
    "\n",
    "    numeric_values = re.findall(r'\\d+', string)\n",
    "    \n",
    "    if not numeric_values:\n",
    "        return None"
   ]
  },
  {
   "cell_type": "code",
   "execution_count": 91,
   "id": "13cbb088",
   "metadata": {},
   "outputs": [
    {
     "ename": "NameError",
     "evalue": "name 'numeric_values' is not defined",
     "output_type": "error",
     "traceback": [
      "\u001b[1;31m---------------------------------------------------------------------------\u001b[0m",
      "\u001b[1;31mNameError\u001b[0m                                 Traceback (most recent call last)",
      "Cell \u001b[1;32mIn[91], line 1\u001b[0m\n\u001b[1;32m----> 1\u001b[0m max_value \u001b[38;5;241m=\u001b[39m \u001b[38;5;28mmax\u001b[39m(\u001b[38;5;28mmap\u001b[39m(\u001b[38;5;28mint\u001b[39m, \u001b[43mnumeric_values\u001b[49m))\n\u001b[0;32m      2\u001b[0m \u001b[38;5;28;01mreturn\u001b[39;00m max_value\n",
      "\u001b[1;31mNameError\u001b[0m: name 'numeric_values' is not defined"
     ]
    }
   ],
   "source": [
    "max_value = max(map(int, numeric_values))\n",
    "return max_value\n"
   ]
  },
  {
   "cell_type": "code",
   "execution_count": 92,
   "id": "3279fa19",
   "metadata": {},
   "outputs": [
    {
     "name": "stdout",
     "output_type": "stream",
     "text": [
      "Max numeric value: None\n"
     ]
    }
   ],
   "source": [
    "string = \"The maximum value is 42, but there are also other numbers like 10 and 25.\"\n",
    "max_numeric_value = extract_max_numeric_value(string)\n",
    "print(\"Max numeric value:\", max_numeric_value)"
   ]
  },
  {
   "cell_type": "markdown",
   "id": "001b8e08",
   "metadata": {},
   "source": [
    "23)Write a Regex in Python to put spaces between words starting with capital letters"
   ]
  },
  {
   "cell_type": "code",
   "execution_count": 93,
   "id": "98452538",
   "metadata": {},
   "outputs": [],
   "source": [
    "import re"
   ]
  },
  {
   "cell_type": "code",
   "execution_count": 97,
   "id": "fcea6b4f",
   "metadata": {},
   "outputs": [],
   "source": [
    " def add_spaces(text):\n",
    "    \n",
    "    pattern = r'(?<!^)(?=[A-Z])'\n",
    "    result = re.sub(pattern, ' ', text)\n",
    "\n",
    "    return result"
   ]
  },
  {
   "cell_type": "code",
   "execution_count": 99,
   "id": "b604f626",
   "metadata": {},
   "outputs": [
    {
     "name": "stdout",
     "output_type": "stream",
     "text": [
      "mynameissarveshgaikwad\n"
     ]
    }
   ],
   "source": [
    "text = \"mynameissarveshgaikwad\"\n",
    "spaced_text = add_spaces(text)\n",
    "print(spaced_text)"
   ]
  },
  {
   "cell_type": "markdown",
   "id": "194face8",
   "metadata": {},
   "source": [
    "24)Python regex to find sequences of one upper case letter followed by lower case letters"
   ]
  },
  {
   "cell_type": "code",
   "execution_count": 100,
   "id": "c2a6c973",
   "metadata": {},
   "outputs": [],
   "source": [
    "import re"
   ]
  },
  {
   "cell_type": "code",
   "execution_count": 101,
   "id": "a18b1042",
   "metadata": {},
   "outputs": [
    {
     "name": "stdout",
     "output_type": "stream",
     "text": [
      "['Their']\n"
     ]
    }
   ],
   "source": [
    "pattern = r'[A-Z][a-z]+'\n",
    "text = \"Their are many string and upper cases.\"\n",
    "\n",
    "matches = re.findall(pattern, text)\n",
    "print(matches)"
   ]
  },
  {
   "cell_type": "markdown",
   "id": "d55d6bbf",
   "metadata": {},
   "source": [
    "25)Write a Python program to remove duplicate words from Sentence using Regular Expression"
   ]
  },
  {
   "cell_type": "code",
   "execution_count": 102,
   "id": "0ea561e8",
   "metadata": {},
   "outputs": [],
   "source": [
    "import re"
   ]
  },
  {
   "cell_type": "code",
   "execution_count": 103,
   "id": "d121f3cf",
   "metadata": {},
   "outputs": [],
   "source": [
    "def remove_duplicate_words(sentence):\n",
    "    \n",
    "    pattern = re.compile(r'\\b(\\w+)\\b\\s+(?=.*\\b\\1\\b)')\n",
    "    duplicates = pattern.findall(sentence)\n",
    "\n",
    "    \n",
    "    for duplicate in duplicates:\n",
    "        sentence = re.sub(r'\\b' + duplicate + r'\\b', '', sentence)\n",
    "\n",
    "\n",
    "    sentence = re.sub(r'\\s+', ' ', sentence)\n",
    "\n",
    "    return sentence.strip()\n"
   ]
  },
  {
   "cell_type": "code",
   "execution_count": 104,
   "id": "381dd801",
   "metadata": {},
   "outputs": [
    {
     "name": "stdout",
     "output_type": "stream",
     "text": [
      "my .\n"
     ]
    }
   ],
   "source": [
    "input_sentence = \"my name name sarvesh sarvesh gaikwad gaikwad.\"\n",
    "result = remove_duplicate_words(input_sentence)\n",
    "print(result)"
   ]
  },
  {
   "cell_type": "markdown",
   "id": "3dc3adc7",
   "metadata": {},
   "source": [
    "26)Write a python program using RegEx to accept string ending with alphanumeric character."
   ]
  },
  {
   "cell_type": "code",
   "execution_count": 105,
   "id": "a1a88b0b",
   "metadata": {},
   "outputs": [],
   "source": [
    "import re"
   ]
  },
  {
   "cell_type": "code",
   "execution_count": 106,
   "id": "0844068a",
   "metadata": {},
   "outputs": [],
   "source": [
    "def validate_string(string):\n",
    "    pattern = r'^.*\\w$'\n",
    "    if re.match(pattern, string):\n",
    "        print(\"Valid string!\")\n",
    "    else:\n",
    "        print(\"Invalid string!\")"
   ]
  },
  {
   "cell_type": "code",
   "execution_count": 107,
   "id": "ad9505e3",
   "metadata": {},
   "outputs": [
    {
     "name": "stdout",
     "output_type": "stream",
     "text": [
      "Valid string!\n",
      "Valid string!\n",
      "Valid string!\n",
      "Valid string!\n"
     ]
    }
   ],
   "source": [
    "validate_string(\"abcd123\")\n",
    "validate_string(\"SAR_2778\")\n",
    "validate_string(\"mike@123\")\n",
    "validate_string(\"Hello python\")"
   ]
  },
  {
   "cell_type": "markdown",
   "id": "efb78737",
   "metadata": {},
   "source": [
    "27)Write a python program using RegEx to extract the hashtags.\n",
    "Sample Text: text = \"\"\"RT @kapil_kausik: #Doltiwal I mean #xyzabc is \"hurt\" by #Demonetization as the same has rendered USELESS <ed><U+00A0><U+00BD><ed><U+00B1><U+0089> \"acquired funds\" No wo\"\"\"\n"
   ]
  },
  {
   "cell_type": "code",
   "execution_count": 108,
   "id": "bb81779a",
   "metadata": {},
   "outputs": [],
   "source": [
    "import re"
   ]
  },
  {
   "cell_type": "code",
   "execution_count": 109,
   "id": "ed86d4f5",
   "metadata": {},
   "outputs": [
    {
     "name": "stdout",
     "output_type": "stream",
     "text": [
      "['#Doltiwal', '#xyzabc', '#Demonetization']\n"
     ]
    }
   ],
   "source": [
    "text = \"\"\"RT @kapil_kausik: #Doltiwal I mean #xyzabc is \"hurt\" by #Demonetization as the same has rendered USELESS <ed><U+00A0><U+00BD><ed><U+00B1><U+0089> \"acquired funds\" No wo\"\"\"\n",
    "\n",
    "hashtags = re.findall(r'#\\w+', text)\n",
    "print(hashtags)"
   ]
  },
  {
   "cell_type": "markdown",
   "id": "9caa444b",
   "metadata": {},
   "source": [
    "28)Write a python program using RegEx to remove <U+..> like symbols\n",
    "Check the below sample text, there are strange symbols something of the sort <U+..> all over the place. You need to come up with a general Regex expression that will cover all such symbols.\n",
    "Sample Text: \"@Jags123456 Bharat band on 28??<ed><U+00A0><U+00BD><ed><U+00B8><U+0082>Those who  are protesting #demonetization  are all different party leaders\"\n"
   ]
  },
  {
   "cell_type": "code",
   "execution_count": 110,
   "id": "a6bbcb04",
   "metadata": {},
   "outputs": [],
   "source": [
    "import re"
   ]
  },
  {
   "cell_type": "code",
   "execution_count": 111,
   "id": "9f68081d",
   "metadata": {},
   "outputs": [
    {
     "name": "stdout",
     "output_type": "stream",
     "text": [
      "@Jags123456 Bharat band on 28??<ed><ed>Those who are protesting #demonetization are all different party leaders\n"
     ]
    }
   ],
   "source": [
    "def remove_symbols(text):\n",
    "    cleaned_text = re.sub(r'<U\\+[A-Fa-f0-9]{4}>', '', text)\n",
    "    return cleaned_text\n",
    "\n",
    "sample_text = \"@Jags123456 Bharat band on 28??<ed><U+00A0><U+00BD><ed><U+00B8><U+0082>Those who are protesting #demonetization are all different party leaders\"\n",
    "cleaned_text = remove_symbols(sample_text)\n",
    "print(cleaned_text)"
   ]
  },
  {
   "cell_type": "markdown",
   "id": "b39db52d",
   "metadata": {},
   "source": [
    "29)Write a python program to extract dates from the text stored in the text file.\n",
    "Sample Text: Ron was born on 12-09-1992 and he was admitted to school 15-12-1999.\n",
    "Store this sample text in the file and then extract dates.\n"
   ]
  },
  {
   "cell_type": "markdown",
   "id": "b7d2999e",
   "metadata": {},
   "source": [
    "30)Write a Python program to replace all occurrences of a space, comma, or dot with a colon.\n",
    "Sample Text- 'Python Exercises, PHP exercises.'"
   ]
  },
  {
   "cell_type": "code",
   "execution_count": 117,
   "id": "cd99c3d3",
   "metadata": {},
   "outputs": [],
   "source": [
    "import re"
   ]
  },
  {
   "cell_type": "code",
   "execution_count": 118,
   "id": "97e4764d",
   "metadata": {},
   "outputs": [
    {
     "name": "stdout",
     "output_type": "stream",
     "text": [
      "Python:Exercises::PHP:exercises:\n"
     ]
    }
   ],
   "source": [
    "def replace_characters(text):\n",
    "    characters_to_replace = [' ', ',', '.']\n",
    "    for char in characters_to_replace:\n",
    "        text = text.replace(char, ':')\n",
    "    return text\n",
    "\n",
    "sample_text = 'Python Exercises, PHP exercises.'\n",
    "result = replace_characters(sample_text)\n",
    "print(result)"
   ]
  },
  {
   "cell_type": "code",
   "execution_count": null,
   "id": "5657f866",
   "metadata": {},
   "outputs": [],
   "source": []
  }
 ],
 "metadata": {
  "kernelspec": {
   "display_name": "Python 3 (ipykernel)",
   "language": "python",
   "name": "python3"
  },
  "language_info": {
   "codemirror_mode": {
    "name": "ipython",
    "version": 3
   },
   "file_extension": ".py",
   "mimetype": "text/x-python",
   "name": "python",
   "nbconvert_exporter": "python",
   "pygments_lexer": "ipython3",
   "version": "3.10.9"
  }
 },
 "nbformat": 4,
 "nbformat_minor": 5
}
